{
 "cells": [
  {
   "cell_type": "code",
   "execution_count": 1,
   "metadata": {},
   "outputs": [],
   "source": [
    "## Import libs"
   ]
  },
  {
   "cell_type": "code",
   "execution_count": 47,
   "metadata": {},
   "outputs": [],
   "source": [
    "import numpy as np"
   ]
  },
  {
   "cell_type": "code",
   "execution_count": 48,
   "metadata": {},
   "outputs": [],
   "source": [
    "streetlights = np.array([[1,0,1],\n",
    "                      [0,1,1],\n",
    "                       [0,0,1],\n",
    "                       [1,1,1],\n",
    "                       [0,1,1],\n",
    "                       [1,0,1]])"
   ]
  },
  {
   "cell_type": "code",
   "execution_count": 49,
   "metadata": {},
   "outputs": [],
   "source": [
    "walk_vs_stop = np.array([[0],\n",
    "                        [1],\n",
    "                        [0],\n",
    "                        [1],\n",
    "                        [1],\n",
    "                        [0]])"
   ]
  },
  {
   "cell_type": "code",
   "execution_count": 50,
   "metadata": {},
   "outputs": [],
   "source": [
    "weights = np.array([0.5, 0.48, -0.7])\n",
    "learning_rate = 0.1"
   ]
  },
  {
   "cell_type": "code",
   "execution_count": 51,
   "metadata": {},
   "outputs": [],
   "source": [
    "input = streetlights[0]\n",
    "\n",
    "goal_prediction = walk_vs_stop[0]"
   ]
  },
  {
   "cell_type": "code",
   "execution_count": 52,
   "metadata": {},
   "outputs": [],
   "source": [
    "# for iteration in range(20):\n",
    "#     prediction = input.dot(weights)\n",
    "#     error = (goal_prediction - prediction)**2\n",
    "#     delta = prediction - goal_prediction\n",
    "#     weights = weights - (learning_rate * (input*delta))\n",
    "    \n",
    "#     print(\"Error:\" + str(error) + \" Prediction: \" + str(prediction))\n",
    "    "
   ]
  },
  {
   "cell_type": "code",
   "execution_count": 54,
   "metadata": {},
   "outputs": [
    {
     "name": "stdout",
     "output_type": "stream",
     "text": [
      "Error:[4.4120812e-06] Prediction: -0.0021004954663826486\n",
      "Error:[3.87311067e-06] Prediction: 0.9980319779815437\n",
      "Error:[0.00024292] Prediction: -0.015585919716753814\n",
      "Error:[0.00019843] Prediction: 1.0140864999024037\n",
      "Error:[8.0266008e-06] Prediction: 0.9971668743764297\n",
      "Error:[6.04662994e-06] Prediction: -0.0024589896177088285\n",
      "Error:[3.86984316e-06] Prediction: -0.0019671916941670625\n",
      "Error:[3.32654689e-06] Prediction: 0.9981761176323313\n",
      "Error:[0.00021105] Prediction: -0.014527658805007315\n",
      "Error:[0.0001724] Prediction: 1.0131299536728062\n",
      "Error:[6.92916517e-06] Prediction: 0.9973676692518045\n",
      "Error:[5.29624357e-06] Prediction: -0.0023013568978077475\n",
      "Error:[3.38959589e-06] Prediction: -0.001841085518246197\n",
      "Error:[2.86157943e-06] Prediction: 0.998308379643049\n",
      "Error:[0.00018337] Prediction: -0.013541248939667162\n",
      "Error:[0.00014978] Prediction: 1.0122383711691711\n",
      "Error:[5.98705351e-06] Prediction: 0.9975531543745718\n",
      "Error:[4.63356258e-06] Prediction: -0.0021525711562265498\n",
      "Error:[2.96548005e-06] Prediction: -0.0017220569249812388\n",
      "Error:[2.46494299e-06] Prediction: 0.9984299863077781\n",
      "Error:[0.00015931] Prediction: -0.012621812422731776\n",
      "Error:[0.00013013] Prediction: 1.0114073385404647\n",
      "Error:[5.17697835e-06] Prediction: 0.9977247025804028\n",
      "Error:[4.04975736e-06] Prediction: -0.002012400894622849\n",
      "Error:[2.59184471e-06] Prediction: -0.0016099207156982792\n",
      "Error:[2.12578084e-06] Prediction: 0.9985419942253542\n",
      "Error:[0.00013841] Prediction: -0.011764802554048654\n",
      "Error:[0.00011306] Prediction: 1.0106327421946428\n",
      "Error:[4.47945713e-06] Prediction: 0.9978835271967597\n",
      "Error:[3.53649425e-06] Prediction: -0.0018805568982937053\n",
      "Error:[2.26335632e-06] Prediction: -0.001504445518634965\n",
      "Error:[1.83515249e-06] Prediction: 0.9986453219991005\n",
      "Error:[0.00012025] Prediction: -0.01096598119600122\n",
      "Error:[9.82229319e-05] Prediction: 1.0099107483000638\n",
      "Error:[3.87811863e-06] Prediction: 0.9980307060588679\n",
      "Error:[3.0860327e-06] Prediction: -0.001756710761117445\n",
      "Error:[1.97506093e-06] Prediction: -0.0014053686088939567\n",
      "Error:[1.58565318e-06] Prediction: 0.9987407727840956\n",
      "Error:[0.00010448] Prediction: -0.010221397853702682\n",
      "Error:[8.53366477e-05] Prediction: 1.0092377837008246\n",
      "Error:[3.35915118e-06] Prediction: 0.9981672012724818\n",
      "Error:[2.69127059e-06] Prediction: -0.001640509247567555\n",
      "Error:[1.72241318e-06] Prediction: -0.0013124073980540427\n",
      "Error:[1.37111762e-06] Prediction: 0.9988290526825476\n",
      "Error:[9.07707823e-05] Prediction: -0.009527370169355658\n",
      "Error:[7.41410227e-05] Prediction: 1.0086105181456313\n",
      "Error:[2.91086069e-06] Prediction: 0.9982938755338475\n",
      "Error:[2.34575369e-06] Prediction: -0.0015315853522734424\n",
      "Error:[1.50128236e-06] Prediction: -0.001225268281818754\n",
      "Error:[1.18638759e-06] Prediction: 0.9989107857904872\n",
      "Error:[7.88626717e-05] Prediction: -0.008880465736007474\n",
      "Error:[6.44142319e-05] Prediction: 1.0080258477374942\n",
      "Error:[2.52331427e-06] Prediction: 0.9984115056584917\n",
      "Error:[2.04366108e-06] Prediction: -0.0014295667442509753\n",
      "Error:[1.30794309e-06] Prediction: -0.0011436533954007804\n",
      "Error:[1.02712845e-06] Prediction: 0.9989865265407586\n",
      "Error:[6.85167603e-05] Prediction: -0.008277485142115994\n",
      "Error:[5.59635584e-05] Prediction: 1.007480879518538\n",
      "Error:[2.18805085e-06] Prediction: 0.998520793843111\n",
      "Error:[1.77977517e-06] Prediction: -0.001334082144203567\n",
      "Error:[1.13905611e-06] Prediction: -0.0010672657153628536\n",
      "Error:[8.89683096e-07] Prediction: 0.9990567698604454\n",
      "Error:[5.95281095e-05] Prediction: -0.007715446164157189\n",
      "Error:[4.8621573e-05] Prediction: 1.0069729171105943\n",
      "Error:[1.8978449e-06] Prediction: 0.9986223770826531\n",
      "Error:[1.54944257e-06] Prediction: -0.001244766072303288\n",
      "Error:[9.91643248e-07] Prediction: -0.0009958128578426307\n",
      "Error:[7.70955016e-07] Prediction: 0.9991219595591371\n",
      "Error:[5.17186651e-05] Prediction: -0.007191569029965331\n",
      "Error:[4.22428157e-05] Prediction: 1.0064994473380837\n",
      "Error:[1.64651221e-06] Prediction: 0.9987168350826894\n",
      "Error:[1.34853016e-06] Prediction: -0.0011612623150769616\n",
      "Error:[8.63059305e-07] Prediction: -0.0009290098520615695\n",
      "Error:[6.68313963e-07] Prediction: 0.9991824952828653\n",
      "Error:[4.49337306e-05] Prediction: -0.006703262680618784\n",
      "Error:[3.6700912e-05] Prediction: 1.0060581277650371\n",
      "Error:[1.4287494e-06] Prediction: 0.9988046969413468\n",
      "Error:[1.17337941e-06] Prediction: -0.0010832263890160057\n",
      "Error:[7.50962822e-07] Prediction: -0.0008665811112128045\n",
      "Error:[5.79519371e-07] Prediction: 0.9992387383031004\n",
      "Error:[3.90389031e-05] Prediction: -0.0062481119634824524\n",
      "Error:[3.18860688e-05] Prediction: 1.0056467750830307\n",
      "Error:[1.24000068e-06] Prediction: 0.9988864468222225\n",
      "Error:[1.0207611e-06] Prediction: -0.0010103272217604235\n",
      "Error:[6.53287101e-07] Prediction: -0.0008082617774083393\n",
      "Error:[5.02657805e-07] Prediction: 0.9992910163576949\n",
      "Error:[3.39174116e-05] Prediction: -0.005823865693512139\n",
      "Error:[2.77028984e-05] Prediction: 1.0052633542913234\n",
      "Error:[1.0763465e-06] Prediction: 0.9989625287972427\n",
      "Error:[8.8783172e-07] Prediction: -0.0009422482263338975\n",
      "Error:[5.68212301e-07] Prediction: -0.000753798581067118\n",
      "Error:[4.3609155e-07] Prediction: 0.9993396277185344\n",
      "Error:[2.94678037e-05] Prediction: -0.005428425524130868\n",
      "Error:[2.4068528e-05] Prediction: 1.0049059686146642\n",
      "Error:[9.34410281e-07] Prediction: 0.9990333510043077\n",
      "Error:[7.72092439e-07] Prediction: -0.0008786879076576491\n",
      "Error:[4.94139161e-07] Prediction: -0.0007029503261261191\n",
      "Error:[3.78416133e-07] Prediction: 0.9993848446268245\n",
      "Error:[2.5601936e-05] Prediction: -0.005059835572919044\n",
      "Error:[2.09109581e-05] Prediction: 1.0045728501080873\n",
      "Error:[8.11279878e-07] Prediction: 0.9990992892371342\n",
      "Error:[6.71350993e-07] Prediction: -0.0008193601116223198\n",
      "Error:[4.29664635e-07] Prediction: -0.0006554880892978556\n",
      "Error:[3.28425031e-07] Prediction: 0.9994269162097993\n",
      "Error:[2.22432287e-05] Prediction: -0.004716272751037199\n",
      "Error:[1.81676352e-05] Prediction: 1.0042623509015622\n",
      "Error:[7.04441171e-07] Prediction: 0.9991606900626308\n",
      "Error:[5.83686838e-07] Prediction: -0.0007639940038900173\n",
      "Error:[3.73559576e-07] Prediction: -0.0006111952031120135\n",
      "Error:[2.85080208e-07] Prediction: 0.9994660709708046\n",
      "Error:[1.93251479e-05] Prediction: -0.00439603774873304\n",
      "Error:[1.57842128e-05] Prediction: 1.00397293504068\n",
      "Error:[6.11721794e-07] Prediction: 0.9992178735433812\n",
      "Error:[5.0741951e-07] Prediction: -0.0007123338471709084\n",
      "Error:[3.24748486e-07] Prediction: -0.0005698670777367267\n",
      "Error:[2.47487418e-07] Prediction: 0.9995025189271958\n",
      "Error:[1.67898884e-05] Prediction: -0.004097546632494679\n",
      "Error:[1.37134746e-05] Prediction: 1.0037031708825916\n",
      "Error:[5.31243272e-07] Prediction: 0.9992711356284877\n",
      "Error:[4.41080121e-07] Prediction: -0.0006641386310265885\n"
     ]
    }
   ],
   "source": [
    "for iteration in range(20):\n",
    "    error_for_all_lights = 0\n",
    "    \n",
    "    for row_index in range(len(walk_vs_stop)):\n",
    "        input = streetlights[row_index]\n",
    "        \n",
    "        goal_prediction = walk_vs_stop[row_index]\n",
    "        \n",
    "        prediction = input.dot(weights)\n",
    "        \n",
    "        error = (goal_prediction - prediction)**2\n",
    "        \n",
    "        error_for_all_lights = error_for_all_lights +  error        \n",
    "        \n",
    "        delta = prediction - goal_prediction    \n",
    "        \n",
    "        weights = weights - (learning_rate * (input*delta))\n",
    "        \n",
    "        print(\"Error:\" + str(error) + \" Prediction: \" + str(prediction))\n",
    "    "
   ]
  },
  {
   "cell_type": "code",
   "execution_count": null,
   "metadata": {},
   "outputs": [],
   "source": []
  },
  {
   "cell_type": "code",
   "execution_count": null,
   "metadata": {},
   "outputs": [],
   "source": []
  }
 ],
 "metadata": {
  "kernelspec": {
   "display_name": "Python 3",
   "language": "python",
   "name": "python3"
  },
  "language_info": {
   "codemirror_mode": {
    "name": "ipython",
    "version": 3
   },
   "file_extension": ".py",
   "mimetype": "text/x-python",
   "name": "python",
   "nbconvert_exporter": "python",
   "pygments_lexer": "ipython3",
   "version": "3.6.7"
  }
 },
 "nbformat": 4,
 "nbformat_minor": 2
}
