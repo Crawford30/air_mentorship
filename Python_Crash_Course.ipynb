{
  "nbformat": 4,
  "nbformat_minor": 0,
  "metadata": {
    "colab": {
      "name": "Python Crash Course.ipynb",
      "version": "0.3.2",
      "provenance": [],
      "collapsed_sections": [
        "TDimzmNNPJhc",
        "tKrSYr7LPJkn",
        "Z4sqH0bZPJrE",
        "jRosdhSVPJsr",
        "0QyCMwItPJtz",
        "tpKXfeiIPJvC",
        "HnXxEa-MPJvr",
        "mhdyftqjPJx_",
        "jdwGzjUYPJzg",
        "F2jkpqP5PJ1U",
        "PyZQorBTPJ3B",
        "Qo9Cu6BxPJ3j",
        "7yBlTnh0PJ5k",
        "wFDTfi2hPJ8a",
        "5U6iGo4sPJ-h",
        "gADebV-fPJ_y",
        "4DZyCGlJPKBK"
      ]
    },
    "kernelspec": {
      "display_name": "Python 3",
      "language": "python",
      "name": "python3"
    }
  },
  "cells": [
    {
      "metadata": {
        "id": "_8epk0HxPJZH",
        "colab_type": "text"
      },
      "cell_type": "markdown",
      "source": [
        "# Python Crash Course\n",
        "\n",
        "Please note, this is not meant to be a comprehensive overview of Python or programming in general, \n",
        "\n",
        "This notebook is meant to get the mentees up to speed with the very basics of python3 in the topics mentioned below;\n",
        "\n",
        "This notebook will just go through the basic topics in order:\n",
        "\n",
        "* Data types\n",
        "    * Numbers\n",
        "    * Strings\n",
        "    * Printing\n",
        "    * Lists\n",
        "    * Dictionaries\n",
        "    * Booleans\n",
        "    * Tuples \n",
        "    * Sets\n",
        "* Comparison Operators\n",
        "* if,elif, else Statements\n",
        "* for Loops\n",
        "* while Loops\n",
        "* range()\n",
        "* list comprehension\n",
        "* functions\n",
        "* lambda expressions\n",
        "* map and filter\n",
        "* methods\n",
        "____"
      ]
    },
    {
      "metadata": {
        "id": "R8d416zvPJZT",
        "colab_type": "text"
      },
      "cell_type": "markdown",
      "source": [
        "## Data types\n",
        "\n",
        "### Numbers"
      ]
    },
    {
      "metadata": {
        "id": "dcdmcfYcPJZc",
        "colab_type": "code",
        "outputId": "62ba06b5-852d-4e06-beeb-5df0c76c2179",
        "colab": {}
      },
      "cell_type": "code",
      "source": [
        "1 + 1"
      ],
      "execution_count": 0,
      "outputs": [
        {
          "output_type": "execute_result",
          "data": {
            "text/plain": [
              "2"
            ]
          },
          "metadata": {
            "tags": []
          },
          "execution_count": 6
        }
      ]
    },
    {
      "metadata": {
        "id": "QP6InPGBPJaN",
        "colab_type": "code",
        "outputId": "c13e0888-83da-4b86-93d9-d1473ecbd6f4",
        "colab": {}
      },
      "cell_type": "code",
      "source": [
        "1 * 3"
      ],
      "execution_count": 0,
      "outputs": [
        {
          "output_type": "execute_result",
          "data": {
            "text/plain": [
              "3"
            ]
          },
          "metadata": {
            "tags": []
          },
          "execution_count": 7
        }
      ]
    },
    {
      "metadata": {
        "id": "YPAHZtbnPJas",
        "colab_type": "code",
        "outputId": "f70f0d2f-ac15-48eb-eeed-4f6e1fed2fcd",
        "colab": {}
      },
      "cell_type": "code",
      "source": [
        "1 / 2"
      ],
      "execution_count": 0,
      "outputs": [
        {
          "output_type": "execute_result",
          "data": {
            "text/plain": [
              "0.5"
            ]
          },
          "metadata": {
            "tags": []
          },
          "execution_count": 8
        }
      ]
    },
    {
      "metadata": {
        "id": "2ew2aruVPJbJ",
        "colab_type": "code",
        "outputId": "cd0b9743-58ef-4522-e4f0-f4c691ca0bbf",
        "colab": {}
      },
      "cell_type": "code",
      "source": [
        "2 ** 4"
      ],
      "execution_count": 0,
      "outputs": [
        {
          "output_type": "execute_result",
          "data": {
            "text/plain": [
              "16"
            ]
          },
          "metadata": {
            "tags": []
          },
          "execution_count": 9
        }
      ]
    },
    {
      "metadata": {
        "id": "5_8xAZ5JPJbx",
        "colab_type": "code",
        "outputId": "85e0cca4-d3c1-4aae-a87b-1c08d13836e7",
        "colab": {}
      },
      "cell_type": "code",
      "source": [
        "4 % 2"
      ],
      "execution_count": 0,
      "outputs": [
        {
          "output_type": "execute_result",
          "data": {
            "text/plain": [
              "0"
            ]
          },
          "metadata": {
            "tags": []
          },
          "execution_count": 10
        }
      ]
    },
    {
      "metadata": {
        "id": "4XmEkXVBPJcS",
        "colab_type": "code",
        "outputId": "47d04424-fa21-4c77-8a9b-5747c73010e5",
        "colab": {}
      },
      "cell_type": "code",
      "source": [
        "5 % 2"
      ],
      "execution_count": 0,
      "outputs": [
        {
          "output_type": "execute_result",
          "data": {
            "text/plain": [
              "1"
            ]
          },
          "metadata": {
            "tags": []
          },
          "execution_count": 11
        }
      ]
    },
    {
      "metadata": {
        "id": "RiSpW0WRPJcy",
        "colab_type": "code",
        "outputId": "c7b2a128-5da5-40bb-896d-9f5ccb2118fe",
        "colab": {}
      },
      "cell_type": "code",
      "source": [
        "(2 + 3) * (5 + 5)"
      ],
      "execution_count": 0,
      "outputs": [
        {
          "output_type": "execute_result",
          "data": {
            "text/plain": [
              "50"
            ]
          },
          "metadata": {
            "tags": []
          },
          "execution_count": 12
        }
      ]
    },
    {
      "metadata": {
        "id": "DpjSSdSkPJd8",
        "colab_type": "text"
      },
      "cell_type": "markdown",
      "source": [
        "### Variable Assignment"
      ]
    },
    {
      "metadata": {
        "id": "yHVeOTQ3PJeH",
        "colab_type": "code",
        "colab": {}
      },
      "cell_type": "code",
      "source": [
        "# Can not start with number or special characters\n",
        "name_of_var = 2"
      ],
      "execution_count": 0,
      "outputs": []
    },
    {
      "metadata": {
        "id": "oaRxgixbPJed",
        "colab_type": "code",
        "colab": {}
      },
      "cell_type": "code",
      "source": [
        "x = 2\n",
        "y = 3"
      ],
      "execution_count": 0,
      "outputs": []
    },
    {
      "metadata": {
        "id": "RuGifPMnPJe0",
        "colab_type": "code",
        "colab": {}
      },
      "cell_type": "code",
      "source": [
        "z = x + y"
      ],
      "execution_count": 0,
      "outputs": []
    },
    {
      "metadata": {
        "id": "dtVkzDRcPJfJ",
        "colab_type": "code",
        "outputId": "c65756af-8431-40d0-de01-1c4a163e075e",
        "colab": {}
      },
      "cell_type": "code",
      "source": [
        "z"
      ],
      "execution_count": 0,
      "outputs": [
        {
          "output_type": "execute_result",
          "data": {
            "text/plain": [
              "5"
            ]
          },
          "metadata": {
            "tags": []
          },
          "execution_count": 16
        }
      ]
    },
    {
      "metadata": {
        "id": "p0V1Upe8PJfj",
        "colab_type": "text"
      },
      "cell_type": "markdown",
      "source": [
        "### Strings"
      ]
    },
    {
      "metadata": {
        "id": "WHBBYHWVPJfq",
        "colab_type": "code",
        "outputId": "0bcf87fe-0c24-49b8-b9e7-a2f152419261",
        "colab": {}
      },
      "cell_type": "code",
      "source": [
        "'single quotes'"
      ],
      "execution_count": 0,
      "outputs": [
        {
          "output_type": "execute_result",
          "data": {
            "text/plain": [
              "'single quotes'"
            ]
          },
          "metadata": {
            "tags": []
          },
          "execution_count": 17
        }
      ]
    },
    {
      "metadata": {
        "id": "f2-GSucdPJgJ",
        "colab_type": "code",
        "outputId": "ad590fca-3ac3-4bd6-e66d-23de22d27d98",
        "colab": {}
      },
      "cell_type": "code",
      "source": [
        "\"double quotes\""
      ],
      "execution_count": 0,
      "outputs": [
        {
          "output_type": "execute_result",
          "data": {
            "text/plain": [
              "'double quotes'"
            ]
          },
          "metadata": {
            "tags": []
          },
          "execution_count": 18
        }
      ]
    },
    {
      "metadata": {
        "id": "pwg9VIjqPJgx",
        "colab_type": "code",
        "outputId": "6f0f9a47-96c4-4b78-d00f-a05ab563a65d",
        "colab": {}
      },
      "cell_type": "code",
      "source": [
        "\" wrap lot's of other quotes\""
      ],
      "execution_count": 0,
      "outputs": [
        {
          "output_type": "execute_result",
          "data": {
            "text/plain": [
              "\" wrap lot's of other quotes\""
            ]
          },
          "metadata": {
            "tags": []
          },
          "execution_count": 19
        }
      ]
    },
    {
      "metadata": {
        "id": "TDimzmNNPJhc",
        "colab_type": "text"
      },
      "cell_type": "markdown",
      "source": [
        "### Printing"
      ]
    },
    {
      "metadata": {
        "id": "aZvCWjoRPJho",
        "colab_type": "code",
        "colab": {}
      },
      "cell_type": "code",
      "source": [
        "x = 'hello'"
      ],
      "execution_count": 0,
      "outputs": []
    },
    {
      "metadata": {
        "id": "hKNxNqwrPJiJ",
        "colab_type": "code",
        "outputId": "d16c1701-74e1-4fc3-eaaf-c5b968498f37",
        "colab": {}
      },
      "cell_type": "code",
      "source": [
        "x"
      ],
      "execution_count": 0,
      "outputs": [
        {
          "output_type": "execute_result",
          "data": {
            "text/plain": [
              "'hello'"
            ]
          },
          "metadata": {
            "tags": []
          },
          "execution_count": 21
        }
      ]
    },
    {
      "metadata": {
        "id": "IZmQ4XLRPJi2",
        "colab_type": "code",
        "outputId": "f72d763e-1dc1-43e0-bb13-cf92c946aad4",
        "colab": {}
      },
      "cell_type": "code",
      "source": [
        "print(x)"
      ],
      "execution_count": 0,
      "outputs": [
        {
          "output_type": "stream",
          "text": [
            "hello\n"
          ],
          "name": "stdout"
        }
      ]
    },
    {
      "metadata": {
        "id": "gWmlHeeyPJjS",
        "colab_type": "code",
        "colab": {}
      },
      "cell_type": "code",
      "source": [
        "num = 12\n",
        "name = 'Sam'"
      ],
      "execution_count": 0,
      "outputs": []
    },
    {
      "metadata": {
        "id": "t2t13h3jPJjm",
        "colab_type": "code",
        "outputId": "7b0b9193-b244-49ed-b5df-0f0f90806800",
        "colab": {}
      },
      "cell_type": "code",
      "source": [
        "print('My number is: {one}, and my name is: {two}'.format(one=num,two=name))"
      ],
      "execution_count": 0,
      "outputs": [
        {
          "output_type": "stream",
          "text": [
            "My number is: 12, and my name is: Sam\n"
          ],
          "name": "stdout"
        }
      ]
    },
    {
      "metadata": {
        "id": "Gq5UCQ5PPJkK",
        "colab_type": "code",
        "outputId": "7b80b967-c451-40d4-df55-b64b50563fd6",
        "colab": {}
      },
      "cell_type": "code",
      "source": [
        "print('My number is: {}, and my name is: {}'.format(num,name))"
      ],
      "execution_count": 0,
      "outputs": [
        {
          "output_type": "stream",
          "text": [
            "My number is: 12, and my name is: Sam\n"
          ],
          "name": "stdout"
        }
      ]
    },
    {
      "metadata": {
        "id": "tKrSYr7LPJkn",
        "colab_type": "text"
      },
      "cell_type": "markdown",
      "source": [
        "### Lists"
      ]
    },
    {
      "metadata": {
        "id": "bF3WIaNCPJkv",
        "colab_type": "code",
        "outputId": "ad9b8445-ffb3-45ff-8966-97986bea52d4",
        "colab": {}
      },
      "cell_type": "code",
      "source": [
        "[1,2,3]"
      ],
      "execution_count": 0,
      "outputs": [
        {
          "output_type": "execute_result",
          "data": {
            "text/plain": [
              "[1, 2, 3]"
            ]
          },
          "metadata": {
            "tags": []
          },
          "execution_count": 26
        }
      ]
    },
    {
      "metadata": {
        "id": "NGHrrCUIPJlI",
        "colab_type": "code",
        "outputId": "dc3cac56-0775-45d1-f037-55be0be6c21c",
        "colab": {}
      },
      "cell_type": "code",
      "source": [
        "['hi',1,[1,2]]"
      ],
      "execution_count": 0,
      "outputs": [
        {
          "output_type": "execute_result",
          "data": {
            "text/plain": [
              "['hi', 1, [1, 2]]"
            ]
          },
          "metadata": {
            "tags": []
          },
          "execution_count": 27
        }
      ]
    },
    {
      "metadata": {
        "collapsed": true,
        "id": "_FcMVdQAPJlg",
        "colab_type": "code",
        "colab": {}
      },
      "cell_type": "code",
      "source": [
        "my_list = ['a','b','c']"
      ],
      "execution_count": 0,
      "outputs": []
    },
    {
      "metadata": {
        "collapsed": true,
        "id": "XxYBy9EwPJl3",
        "colab_type": "code",
        "colab": {}
      },
      "cell_type": "code",
      "source": [
        "my_list.append('d')"
      ],
      "execution_count": 0,
      "outputs": []
    },
    {
      "metadata": {
        "id": "okyaTgV_PJmK",
        "colab_type": "code",
        "outputId": "2c7fdc43-c3f3-4f53-9e15-1ad36caaf3c5",
        "colab": {}
      },
      "cell_type": "code",
      "source": [
        "my_list"
      ],
      "execution_count": 0,
      "outputs": [
        {
          "output_type": "execute_result",
          "data": {
            "text/plain": [
              "['a', 'b', 'c', 'd']"
            ]
          },
          "metadata": {
            "tags": []
          },
          "execution_count": 30
        }
      ]
    },
    {
      "metadata": {
        "id": "S69Xo5SLPJmh",
        "colab_type": "code",
        "outputId": "f1eed550-ed91-4016-937c-08d620cc5912",
        "colab": {}
      },
      "cell_type": "code",
      "source": [
        "my_list[0]"
      ],
      "execution_count": 0,
      "outputs": [
        {
          "output_type": "execute_result",
          "data": {
            "text/plain": [
              "'a'"
            ]
          },
          "metadata": {
            "tags": []
          },
          "execution_count": 31
        }
      ]
    },
    {
      "metadata": {
        "id": "16fm14iAPJnS",
        "colab_type": "code",
        "outputId": "d27a78ac-8970-469c-9f00-afa2c10f526d",
        "colab": {}
      },
      "cell_type": "code",
      "source": [
        "my_list[1]"
      ],
      "execution_count": 0,
      "outputs": [
        {
          "output_type": "execute_result",
          "data": {
            "text/plain": [
              "'b'"
            ]
          },
          "metadata": {
            "tags": []
          },
          "execution_count": 32
        }
      ]
    },
    {
      "metadata": {
        "id": "QGKy6cwQPJnt",
        "colab_type": "code",
        "outputId": "b1dc2249-75bc-420e-d081-0a9e96bf2e33",
        "colab": {}
      },
      "cell_type": "code",
      "source": [
        "my_list[1:]"
      ],
      "execution_count": 0,
      "outputs": [
        {
          "output_type": "execute_result",
          "data": {
            "text/plain": [
              "['b', 'c', 'd']"
            ]
          },
          "metadata": {
            "tags": []
          },
          "execution_count": 33
        }
      ]
    },
    {
      "metadata": {
        "id": "QOFHslbTPJoI",
        "colab_type": "code",
        "outputId": "3c036fec-0a2e-43a7-8983-38086af55d45",
        "colab": {}
      },
      "cell_type": "code",
      "source": [
        "my_list[:1]"
      ],
      "execution_count": 0,
      "outputs": [
        {
          "output_type": "execute_result",
          "data": {
            "text/plain": [
              "['a']"
            ]
          },
          "metadata": {
            "tags": []
          },
          "execution_count": 34
        }
      ]
    },
    {
      "metadata": {
        "collapsed": true,
        "id": "0tLv5Op0PJod",
        "colab_type": "code",
        "colab": {}
      },
      "cell_type": "code",
      "source": [
        "my_list[0] = 'NEW'"
      ],
      "execution_count": 0,
      "outputs": []
    },
    {
      "metadata": {
        "id": "KKpnfCvxPJou",
        "colab_type": "code",
        "outputId": "1a383727-07b0-481b-a668-f49b908a62d7",
        "colab": {}
      },
      "cell_type": "code",
      "source": [
        "my_list"
      ],
      "execution_count": 0,
      "outputs": [
        {
          "output_type": "execute_result",
          "data": {
            "text/plain": [
              "['NEW', 'b', 'c', 'd']"
            ]
          },
          "metadata": {
            "tags": []
          },
          "execution_count": 98
        }
      ]
    },
    {
      "metadata": {
        "collapsed": true,
        "id": "AEayJiq_PJpF",
        "colab_type": "code",
        "colab": {}
      },
      "cell_type": "code",
      "source": [
        "nest = [1,2,3,[4,5,['target']]]"
      ],
      "execution_count": 0,
      "outputs": []
    },
    {
      "metadata": {
        "id": "epyF6jl3PJpf",
        "colab_type": "code",
        "outputId": "461078f8-0335-4acd-dd17-f89d565d363e",
        "colab": {}
      },
      "cell_type": "code",
      "source": [
        "nest[3]"
      ],
      "execution_count": 0,
      "outputs": [
        {
          "output_type": "execute_result",
          "data": {
            "text/plain": [
              "[4, 5, ['target']]"
            ]
          },
          "metadata": {
            "tags": []
          },
          "execution_count": 100
        }
      ]
    },
    {
      "metadata": {
        "id": "D9zEc3ejPJqI",
        "colab_type": "code",
        "outputId": "e401a7b9-4d25-40f0-a909-5c45d189aa71",
        "colab": {}
      },
      "cell_type": "code",
      "source": [
        "nest[3][2]"
      ],
      "execution_count": 0,
      "outputs": [
        {
          "output_type": "execute_result",
          "data": {
            "text/plain": [
              "['target']"
            ]
          },
          "metadata": {
            "tags": []
          },
          "execution_count": 101
        }
      ]
    },
    {
      "metadata": {
        "id": "i5_-XHqhPJqo",
        "colab_type": "code",
        "outputId": "2d9d73f1-a0fb-4eee-d632-5d6400ae974f",
        "colab": {}
      },
      "cell_type": "code",
      "source": [
        "nest[3][2][0]"
      ],
      "execution_count": 0,
      "outputs": [
        {
          "output_type": "execute_result",
          "data": {
            "text/plain": [
              "'target'"
            ]
          },
          "metadata": {
            "tags": []
          },
          "execution_count": 102
        }
      ]
    },
    {
      "metadata": {
        "id": "Z4sqH0bZPJrE",
        "colab_type": "text"
      },
      "cell_type": "markdown",
      "source": [
        "### Dictionaries"
      ]
    },
    {
      "metadata": {
        "collapsed": true,
        "id": "MAllw-dAPJrR",
        "colab_type": "code",
        "colab": {}
      },
      "cell_type": "code",
      "source": [
        "d = {'key1':'item1','key2':'item2'}"
      ],
      "execution_count": 0,
      "outputs": []
    },
    {
      "metadata": {
        "id": "Z2Pgh6fEPJr4",
        "colab_type": "code",
        "outputId": "9eb1b299-5e9a-43b7-d3e2-95c004e73e64",
        "colab": {}
      },
      "cell_type": "code",
      "source": [
        "d"
      ],
      "execution_count": 0,
      "outputs": [
        {
          "output_type": "execute_result",
          "data": {
            "text/plain": [
              "{'key1': 'item1', 'key2': 'item2'}"
            ]
          },
          "metadata": {
            "tags": []
          },
          "execution_count": 38
        }
      ]
    },
    {
      "metadata": {
        "id": "yp-1ZYM_PJsW",
        "colab_type": "code",
        "outputId": "3a29e5de-1243-48ae-cc5b-6067e3c1480d",
        "colab": {}
      },
      "cell_type": "code",
      "source": [
        "d['key1']"
      ],
      "execution_count": 0,
      "outputs": [
        {
          "output_type": "execute_result",
          "data": {
            "text/plain": [
              "'item1'"
            ]
          },
          "metadata": {
            "tags": []
          },
          "execution_count": 39
        }
      ]
    },
    {
      "metadata": {
        "id": "jRosdhSVPJsr",
        "colab_type": "text"
      },
      "cell_type": "markdown",
      "source": [
        "### Booleans"
      ]
    },
    {
      "metadata": {
        "id": "2tFk7k_lPJsv",
        "colab_type": "code",
        "outputId": "bfbc0dac-117f-40e8-bdb8-426b42a03155",
        "colab": {}
      },
      "cell_type": "code",
      "source": [
        "True"
      ],
      "execution_count": 0,
      "outputs": [
        {
          "output_type": "execute_result",
          "data": {
            "text/plain": [
              "True"
            ]
          },
          "metadata": {
            "tags": []
          },
          "execution_count": 40
        }
      ]
    },
    {
      "metadata": {
        "id": "y6kiTFBmPJtP",
        "colab_type": "code",
        "outputId": "087575f8-aea0-4900-af37-8ca0fc2ae961",
        "colab": {}
      },
      "cell_type": "code",
      "source": [
        "False"
      ],
      "execution_count": 0,
      "outputs": [
        {
          "output_type": "execute_result",
          "data": {
            "text/plain": [
              "False"
            ]
          },
          "metadata": {
            "tags": []
          },
          "execution_count": 41
        }
      ]
    },
    {
      "metadata": {
        "id": "0QyCMwItPJtz",
        "colab_type": "text"
      },
      "cell_type": "markdown",
      "source": [
        "### Tuples "
      ]
    },
    {
      "metadata": {
        "collapsed": true,
        "id": "2pVfzTiQPJt5",
        "colab_type": "code",
        "colab": {}
      },
      "cell_type": "code",
      "source": [
        "t = (1,2,3)"
      ],
      "execution_count": 0,
      "outputs": []
    },
    {
      "metadata": {
        "id": "MAbthhuvPJuK",
        "colab_type": "code",
        "outputId": "5ad329a1-835e-41ef-d74a-f4acb94a88bb",
        "colab": {}
      },
      "cell_type": "code",
      "source": [
        "t[0]"
      ],
      "execution_count": 0,
      "outputs": [
        {
          "output_type": "execute_result",
          "data": {
            "text/plain": [
              "1"
            ]
          },
          "metadata": {
            "tags": []
          },
          "execution_count": 43
        }
      ]
    },
    {
      "metadata": {
        "id": "4ylbtjyyPJuj",
        "colab_type": "code",
        "outputId": "ee29c273-2183-4e4f-a608-98c78949e4cf",
        "colab": {}
      },
      "cell_type": "code",
      "source": [
        "t[0] = 'NEW'"
      ],
      "execution_count": 0,
      "outputs": [
        {
          "output_type": "error",
          "ename": "TypeError",
          "evalue": "'tuple' object does not support item assignment",
          "traceback": [
            "\u001b[0;31m---------------------------------------------------------------------------\u001b[0m",
            "\u001b[0;31mTypeError\u001b[0m                                 Traceback (most recent call last)",
            "\u001b[0;32m<ipython-input-44-97e4e33b36c2>\u001b[0m in \u001b[0;36m<module>\u001b[0;34m()\u001b[0m\n\u001b[0;32m----> 1\u001b[0;31m \u001b[0mt\u001b[0m\u001b[0;34m[\u001b[0m\u001b[0;36m0\u001b[0m\u001b[0;34m]\u001b[0m \u001b[0;34m=\u001b[0m \u001b[0;34m'NEW'\u001b[0m\u001b[0;34m\u001b[0m\u001b[0m\n\u001b[0m",
            "\u001b[0;31mTypeError\u001b[0m: 'tuple' object does not support item assignment"
          ]
        }
      ]
    },
    {
      "metadata": {
        "id": "tpKXfeiIPJvC",
        "colab_type": "text"
      },
      "cell_type": "markdown",
      "source": [
        "### Sets"
      ]
    },
    {
      "metadata": {
        "id": "SWWP9WENPJvJ",
        "colab_type": "code",
        "outputId": "e3d75ea4-b709-40c0-9cb0-6fae066f2cbb",
        "colab": {}
      },
      "cell_type": "code",
      "source": [
        "{1,2,3}"
      ],
      "execution_count": 0,
      "outputs": [
        {
          "output_type": "execute_result",
          "data": {
            "text/plain": [
              "{1, 2, 3}"
            ]
          },
          "metadata": {
            "tags": []
          },
          "execution_count": 45
        }
      ]
    },
    {
      "metadata": {
        "id": "gEvuhqERPJvZ",
        "colab_type": "code",
        "outputId": "1c3d12dd-d572-4ae3-c65f-946846cd5fca",
        "colab": {}
      },
      "cell_type": "code",
      "source": [
        "{1,2,3,1,2,1,2,3,3,3,3,2,2,2,1,1,2}"
      ],
      "execution_count": 0,
      "outputs": [
        {
          "output_type": "execute_result",
          "data": {
            "text/plain": [
              "{1, 2, 3}"
            ]
          },
          "metadata": {
            "tags": []
          },
          "execution_count": 46
        }
      ]
    },
    {
      "metadata": {
        "id": "HnXxEa-MPJvr",
        "colab_type": "text"
      },
      "cell_type": "markdown",
      "source": [
        "## Comparison Operators"
      ]
    },
    {
      "metadata": {
        "id": "NKkgDRsPPJvv",
        "colab_type": "code",
        "outputId": "db56183c-1998-42aa-edfb-6495a1a4c8b7",
        "colab": {}
      },
      "cell_type": "code",
      "source": [
        "1 > 2"
      ],
      "execution_count": 0,
      "outputs": [
        {
          "output_type": "execute_result",
          "data": {
            "text/plain": [
              "False"
            ]
          },
          "metadata": {
            "tags": []
          },
          "execution_count": 47
        }
      ]
    },
    {
      "metadata": {
        "id": "EIVCmp5VPJv9",
        "colab_type": "code",
        "outputId": "e69c009c-5b5b-45c1-a8e9-dc7693d2d910",
        "colab": {}
      },
      "cell_type": "code",
      "source": [
        "1 < 2"
      ],
      "execution_count": 0,
      "outputs": [
        {
          "output_type": "execute_result",
          "data": {
            "text/plain": [
              "True"
            ]
          },
          "metadata": {
            "tags": []
          },
          "execution_count": 48
        }
      ]
    },
    {
      "metadata": {
        "id": "Wz5X0GLqPJwa",
        "colab_type": "code",
        "outputId": "df8c0ad1-54c9-4b3f-d37d-abfa3309f248",
        "colab": {}
      },
      "cell_type": "code",
      "source": [
        "1 >= 1"
      ],
      "execution_count": 0,
      "outputs": [
        {
          "output_type": "execute_result",
          "data": {
            "text/plain": [
              "True"
            ]
          },
          "metadata": {
            "tags": []
          },
          "execution_count": 49
        }
      ]
    },
    {
      "metadata": {
        "id": "urj7y_4MPJw5",
        "colab_type": "code",
        "outputId": "61fd99c6-ad04-4293-df2c-e5cfa7e75408",
        "colab": {}
      },
      "cell_type": "code",
      "source": [
        "1 <= 4"
      ],
      "execution_count": 0,
      "outputs": [
        {
          "output_type": "execute_result",
          "data": {
            "text/plain": [
              "True"
            ]
          },
          "metadata": {
            "tags": []
          },
          "execution_count": 50
        }
      ]
    },
    {
      "metadata": {
        "id": "Ox11TV_DPJxL",
        "colab_type": "code",
        "outputId": "63ad206d-e8a9-4e40-8ec3-29e6f1d40594",
        "colab": {}
      },
      "cell_type": "code",
      "source": [
        "1 == 1"
      ],
      "execution_count": 0,
      "outputs": [
        {
          "output_type": "execute_result",
          "data": {
            "text/plain": [
              "True"
            ]
          },
          "metadata": {
            "tags": []
          },
          "execution_count": 51
        }
      ]
    },
    {
      "metadata": {
        "id": "NaGQFR3aPJxj",
        "colab_type": "code",
        "outputId": "919371c2-106c-406a-c9a9-7604fe024c25",
        "colab": {}
      },
      "cell_type": "code",
      "source": [
        "'hi' == 'bye'"
      ],
      "execution_count": 0,
      "outputs": [
        {
          "output_type": "execute_result",
          "data": {
            "text/plain": [
              "False"
            ]
          },
          "metadata": {
            "tags": []
          },
          "execution_count": 52
        }
      ]
    },
    {
      "metadata": {
        "id": "mhdyftqjPJx_",
        "colab_type": "text"
      },
      "cell_type": "markdown",
      "source": [
        "## Logic Operators"
      ]
    },
    {
      "metadata": {
        "id": "cr350bQwPJyD",
        "colab_type": "code",
        "outputId": "892d0059-7ebe-47d9-ea67-37922f0a52b9",
        "colab": {}
      },
      "cell_type": "code",
      "source": [
        "(1 > 2) and (2 < 3)"
      ],
      "execution_count": 0,
      "outputs": [
        {
          "output_type": "execute_result",
          "data": {
            "text/plain": [
              "False"
            ]
          },
          "metadata": {
            "tags": []
          },
          "execution_count": 53
        }
      ]
    },
    {
      "metadata": {
        "id": "Chy1hhtZPJyT",
        "colab_type": "code",
        "outputId": "8b646f11-21a2-450f-ebae-d9b5c86de081",
        "colab": {}
      },
      "cell_type": "code",
      "source": [
        "(1 > 2) or (2 < 3)"
      ],
      "execution_count": 0,
      "outputs": [
        {
          "output_type": "execute_result",
          "data": {
            "text/plain": [
              "True"
            ]
          },
          "metadata": {
            "tags": []
          },
          "execution_count": 54
        }
      ]
    },
    {
      "metadata": {
        "id": "jIy8RZOoPJy0",
        "colab_type": "code",
        "outputId": "f8e7cc1e-f7f4-495b-b365-ee6976f5174d",
        "colab": {}
      },
      "cell_type": "code",
      "source": [
        "(1 == 2) or (2 == 3) or (4 == 4)"
      ],
      "execution_count": 0,
      "outputs": [
        {
          "output_type": "execute_result",
          "data": {
            "text/plain": [
              "True"
            ]
          },
          "metadata": {
            "tags": []
          },
          "execution_count": 55
        }
      ]
    },
    {
      "metadata": {
        "id": "jdwGzjUYPJzg",
        "colab_type": "text"
      },
      "cell_type": "markdown",
      "source": [
        "## if,elif, else Statements"
      ]
    },
    {
      "metadata": {
        "id": "U3ILNOVcPJzl",
        "colab_type": "code",
        "outputId": "fedc1d04-166f-416c-de27-071f3eda4b6b",
        "colab": {}
      },
      "cell_type": "code",
      "source": [
        "if 1 < 2:\n",
        "    print('Yep!')"
      ],
      "execution_count": 0,
      "outputs": [
        {
          "output_type": "stream",
          "text": [
            "Yep!\n"
          ],
          "name": "stdout"
        }
      ]
    },
    {
      "metadata": {
        "id": "E5KqPLCWPJz9",
        "colab_type": "code",
        "outputId": "6b3bf128-e020-4f2e-f8dc-108a3a685d46",
        "colab": {}
      },
      "cell_type": "code",
      "source": [
        "if 1 < 2:\n",
        "    print('yep!')"
      ],
      "execution_count": 0,
      "outputs": [
        {
          "output_type": "stream",
          "text": [
            "yep!\n"
          ],
          "name": "stdout"
        }
      ]
    },
    {
      "metadata": {
        "id": "iMa8JSYpPJ0W",
        "colab_type": "code",
        "outputId": "3c30c436-48e2-4fe1-faea-ef6e0376b20a",
        "colab": {}
      },
      "cell_type": "code",
      "source": [
        "if 1 < 2:\n",
        "    print('first')\n",
        "else:\n",
        "    print('last')"
      ],
      "execution_count": 0,
      "outputs": [
        {
          "output_type": "stream",
          "text": [
            "first\n"
          ],
          "name": "stdout"
        }
      ]
    },
    {
      "metadata": {
        "id": "vyfgXVGJPJ0o",
        "colab_type": "code",
        "outputId": "6b5d2a0d-d674-4a53-f698-6bbb2847a39f",
        "colab": {}
      },
      "cell_type": "code",
      "source": [
        "if 1 > 2:\n",
        "    print('first')\n",
        "else:\n",
        "    print('last')"
      ],
      "execution_count": 0,
      "outputs": [
        {
          "output_type": "stream",
          "text": [
            "last\n"
          ],
          "name": "stdout"
        }
      ]
    },
    {
      "metadata": {
        "id": "gL1Z7ktcPJ09",
        "colab_type": "code",
        "outputId": "d095dcaa-ec40-4924-8eb3-f155e92bde48",
        "colab": {}
      },
      "cell_type": "code",
      "source": [
        "if 1 == 2:\n",
        "    print('first')\n",
        "elif 3 == 3:\n",
        "    print('middle')\n",
        "else:\n",
        "    print('Last')"
      ],
      "execution_count": 0,
      "outputs": [
        {
          "output_type": "stream",
          "text": [
            "middle\n"
          ],
          "name": "stdout"
        }
      ]
    },
    {
      "metadata": {
        "id": "F2jkpqP5PJ1U",
        "colab_type": "text"
      },
      "cell_type": "markdown",
      "source": [
        "## for Loops"
      ]
    },
    {
      "metadata": {
        "id": "GXMzSfwxPJ1Z",
        "colab_type": "code",
        "colab": {}
      },
      "cell_type": "code",
      "source": [
        "seq = [1,2,3,4,5]"
      ],
      "execution_count": 0,
      "outputs": []
    },
    {
      "metadata": {
        "id": "1piylzf9PJ1l",
        "colab_type": "code",
        "outputId": "31f35a9b-fa00-402d-92cf-e355544f331a",
        "colab": {}
      },
      "cell_type": "code",
      "source": [
        "for item in seq:\n",
        "    print(item)"
      ],
      "execution_count": 0,
      "outputs": [
        {
          "output_type": "stream",
          "text": [
            "1\n",
            "2\n",
            "3\n",
            "4\n",
            "5\n"
          ],
          "name": "stdout"
        }
      ]
    },
    {
      "metadata": {
        "id": "dye9jeYjPJ2G",
        "colab_type": "code",
        "outputId": "eb64f9f2-239b-4d92-8d84-61ced3b19cec",
        "colab": {}
      },
      "cell_type": "code",
      "source": [
        "for item in seq:\n",
        "    print('Yep')"
      ],
      "execution_count": 0,
      "outputs": [
        {
          "output_type": "stream",
          "text": [
            "Yep\n",
            "Yep\n",
            "Yep\n",
            "Yep\n",
            "Yep\n"
          ],
          "name": "stdout"
        }
      ]
    },
    {
      "metadata": {
        "id": "w2YkszA-PJ2r",
        "colab_type": "code",
        "outputId": "e3034999-b19c-4e98-ec55-0e68a4a635b2",
        "colab": {}
      },
      "cell_type": "code",
      "source": [
        "for jelly in seq:\n",
        "    print(jelly+jelly)"
      ],
      "execution_count": 0,
      "outputs": [
        {
          "output_type": "stream",
          "text": [
            "2\n",
            "4\n",
            "6\n",
            "8\n",
            "10\n"
          ],
          "name": "stdout"
        }
      ]
    },
    {
      "metadata": {
        "id": "PyZQorBTPJ3B",
        "colab_type": "text"
      },
      "cell_type": "markdown",
      "source": [
        "## while Loops"
      ]
    },
    {
      "metadata": {
        "id": "MH3tujWMPJ3E",
        "colab_type": "code",
        "outputId": "9d184a76-ae05-440e-cd47-bd28da5b73c4",
        "colab": {}
      },
      "cell_type": "code",
      "source": [
        "i = 1\n",
        "while i < 5:\n",
        "    print('i is: {}'.format(i))\n",
        "    i = i+1"
      ],
      "execution_count": 0,
      "outputs": [
        {
          "output_type": "stream",
          "text": [
            "i is: 1\n",
            "i is: 2\n",
            "i is: 3\n",
            "i is: 4\n"
          ],
          "name": "stdout"
        }
      ]
    },
    {
      "metadata": {
        "id": "Qo9Cu6BxPJ3j",
        "colab_type": "text"
      },
      "cell_type": "markdown",
      "source": [
        "## range()"
      ]
    },
    {
      "metadata": {
        "id": "b_ACXnlAPJ3q",
        "colab_type": "code",
        "outputId": "72aeae69-42a3-492f-d283-3c149ea50a23",
        "colab": {}
      },
      "cell_type": "code",
      "source": [
        "range(5)"
      ],
      "execution_count": 0,
      "outputs": [
        {
          "output_type": "execute_result",
          "data": {
            "text/plain": [
              "range(0, 5)"
            ]
          },
          "metadata": {
            "tags": []
          },
          "execution_count": 66
        }
      ]
    },
    {
      "metadata": {
        "id": "ngPsskGXPJ4M",
        "colab_type": "code",
        "outputId": "730b280f-50e8-4abd-ff9e-91b50c9fcfa0",
        "colab": {}
      },
      "cell_type": "code",
      "source": [
        "for i in range(5):\n",
        "    print(i)"
      ],
      "execution_count": 0,
      "outputs": [
        {
          "output_type": "stream",
          "text": [
            "0\n",
            "1\n",
            "2\n",
            "3\n",
            "4\n"
          ],
          "name": "stdout"
        }
      ]
    },
    {
      "metadata": {
        "id": "kwNZTmxbPJ4w",
        "colab_type": "code",
        "outputId": "48169e45-f3ab-4cc9-c783-707c6cb2ae19",
        "colab": {}
      },
      "cell_type": "code",
      "source": [
        "list(range(5))"
      ],
      "execution_count": 0,
      "outputs": [
        {
          "output_type": "execute_result",
          "data": {
            "text/plain": [
              "[0, 1, 2, 3, 4]"
            ]
          },
          "metadata": {
            "tags": []
          },
          "execution_count": 68
        }
      ]
    },
    {
      "metadata": {
        "id": "7yBlTnh0PJ5k",
        "colab_type": "text"
      },
      "cell_type": "markdown",
      "source": [
        "## list comprehension"
      ]
    },
    {
      "metadata": {
        "id": "x1871g9hPJ55",
        "colab_type": "code",
        "colab": {}
      },
      "cell_type": "code",
      "source": [
        "x = [1,2,3,4]"
      ],
      "execution_count": 0,
      "outputs": []
    },
    {
      "metadata": {
        "id": "tWgPzwChPJ7T",
        "colab_type": "code",
        "outputId": "2016942a-7357-4b34-98f2-9357128a08bc",
        "colab": {}
      },
      "cell_type": "code",
      "source": [
        "out = []\n",
        "for item in x:\n",
        "    out.append(item**2)\n",
        "print(out)"
      ],
      "execution_count": 0,
      "outputs": [
        {
          "output_type": "stream",
          "text": [
            "[1, 4, 9, 16]\n"
          ],
          "name": "stdout"
        }
      ]
    },
    {
      "metadata": {
        "id": "c3B7WT7tPJ8D",
        "colab_type": "code",
        "outputId": "e6f0b1b2-2d64-4826-b2b4-e2e8e2e552a3",
        "colab": {}
      },
      "cell_type": "code",
      "source": [
        "[item**2 for item in x]"
      ],
      "execution_count": 0,
      "outputs": [
        {
          "output_type": "execute_result",
          "data": {
            "text/plain": [
              "[1, 4, 9, 16]"
            ]
          },
          "metadata": {
            "tags": []
          },
          "execution_count": 71
        }
      ]
    },
    {
      "metadata": {
        "id": "wFDTfi2hPJ8a",
        "colab_type": "text"
      },
      "cell_type": "markdown",
      "source": [
        "## functions"
      ]
    },
    {
      "metadata": {
        "collapsed": true,
        "id": "kK-i5EzNPJ8e",
        "colab_type": "code",
        "colab": {}
      },
      "cell_type": "code",
      "source": [
        "def my_func(param1='default'):\n",
        "    \"\"\"\n",
        "    Docstring goes here.\n",
        "    \"\"\"\n",
        "    print(param1)"
      ],
      "execution_count": 0,
      "outputs": []
    },
    {
      "metadata": {
        "id": "9WdrzAisPJ82",
        "colab_type": "code",
        "outputId": "6e220d35-be5e-4cda-da13-ada6fb8001a1",
        "colab": {}
      },
      "cell_type": "code",
      "source": [
        "my_func"
      ],
      "execution_count": 0,
      "outputs": [
        {
          "output_type": "execute_result",
          "data": {
            "text/plain": [
              "<function __main__.my_func>"
            ]
          },
          "metadata": {
            "tags": []
          },
          "execution_count": 73
        }
      ]
    },
    {
      "metadata": {
        "id": "4vFV5QmmPJ9F",
        "colab_type": "code",
        "outputId": "a62f7c40-d3d1-4f79-b101-0cfa8b62eb7c",
        "colab": {}
      },
      "cell_type": "code",
      "source": [
        "my_func()"
      ],
      "execution_count": 0,
      "outputs": [
        {
          "output_type": "stream",
          "text": [
            "default\n"
          ],
          "name": "stdout"
        }
      ]
    },
    {
      "metadata": {
        "id": "eHFDGFNNPJ9d",
        "colab_type": "code",
        "outputId": "e219f3d1-8a62-4b0c-cf35-7ab76a0d485c",
        "colab": {}
      },
      "cell_type": "code",
      "source": [
        "my_func('new param')"
      ],
      "execution_count": 0,
      "outputs": [
        {
          "output_type": "stream",
          "text": [
            "new param\n"
          ],
          "name": "stdout"
        }
      ]
    },
    {
      "metadata": {
        "id": "nSU33XMUPJ9s",
        "colab_type": "code",
        "outputId": "ffe01093-ec0e-4dda-fa68-4d0589b39bb4",
        "colab": {}
      },
      "cell_type": "code",
      "source": [
        "my_func(param1='new param')"
      ],
      "execution_count": 0,
      "outputs": [
        {
          "output_type": "stream",
          "text": [
            "new param\n"
          ],
          "name": "stdout"
        }
      ]
    },
    {
      "metadata": {
        "collapsed": true,
        "id": "znCLYaZ0PJ97",
        "colab_type": "code",
        "colab": {}
      },
      "cell_type": "code",
      "source": [
        "def square(x):\n",
        "    return x**2"
      ],
      "execution_count": 0,
      "outputs": []
    },
    {
      "metadata": {
        "collapsed": true,
        "id": "37viNEbYPJ-F",
        "colab_type": "code",
        "colab": {}
      },
      "cell_type": "code",
      "source": [
        "out = square(2)"
      ],
      "execution_count": 0,
      "outputs": []
    },
    {
      "metadata": {
        "scrolled": true,
        "id": "T8KLVWv1PJ-N",
        "colab_type": "code",
        "outputId": "fe6cfa89-3ee1-48e9-c435-6451653d77b9",
        "colab": {}
      },
      "cell_type": "code",
      "source": [
        "print(out)"
      ],
      "execution_count": 0,
      "outputs": [
        {
          "output_type": "stream",
          "text": [
            "4\n"
          ],
          "name": "stdout"
        }
      ]
    },
    {
      "metadata": {
        "id": "5U6iGo4sPJ-h",
        "colab_type": "text"
      },
      "cell_type": "markdown",
      "source": [
        "## lambda expressions"
      ]
    },
    {
      "metadata": {
        "collapsed": true,
        "id": "2r8dIMBTPJ-o",
        "colab_type": "code",
        "colab": {}
      },
      "cell_type": "code",
      "source": [
        "def times2(var):\n",
        "    return var*2"
      ],
      "execution_count": 0,
      "outputs": []
    },
    {
      "metadata": {
        "id": "Y_S1CipHPJ-0",
        "colab_type": "code",
        "outputId": "21ef385f-57c7-4cfb-b4d8-e4223b1f58b5",
        "colab": {}
      },
      "cell_type": "code",
      "source": [
        "times2(2)"
      ],
      "execution_count": 0,
      "outputs": [
        {
          "output_type": "execute_result",
          "data": {
            "text/plain": [
              "4"
            ]
          },
          "metadata": {
            "tags": []
          },
          "execution_count": 81
        }
      ]
    },
    {
      "metadata": {
        "id": "Ze2C-fKiPJ_W",
        "colab_type": "code",
        "outputId": "9c0bdd4c-3399-4557-c977-29138dcba903",
        "colab": {}
      },
      "cell_type": "code",
      "source": [
        "lambda var: var*2"
      ],
      "execution_count": 0,
      "outputs": [
        {
          "output_type": "execute_result",
          "data": {
            "text/plain": [
              "<function __main__.<lambda>>"
            ]
          },
          "metadata": {
            "tags": []
          },
          "execution_count": 82
        }
      ]
    },
    {
      "metadata": {
        "id": "gADebV-fPJ_y",
        "colab_type": "text"
      },
      "cell_type": "markdown",
      "source": [
        "## map and filter"
      ]
    },
    {
      "metadata": {
        "collapsed": true,
        "id": "-Uxd0oGyPJ_-",
        "colab_type": "code",
        "colab": {}
      },
      "cell_type": "code",
      "source": [
        "seq = [1,2,3,4,5]"
      ],
      "execution_count": 0,
      "outputs": []
    },
    {
      "metadata": {
        "id": "FscjEWnsPKAH",
        "colab_type": "code",
        "outputId": "5fcb0359-9754-4ffa-d8cb-f893a9179166",
        "colab": {}
      },
      "cell_type": "code",
      "source": [
        "map(times2,seq)"
      ],
      "execution_count": 0,
      "outputs": [
        {
          "output_type": "execute_result",
          "data": {
            "text/plain": [
              "<map at 0x105316748>"
            ]
          },
          "metadata": {
            "tags": []
          },
          "execution_count": 84
        }
      ]
    },
    {
      "metadata": {
        "id": "jtG731t0PKAV",
        "colab_type": "code",
        "outputId": "f2e47376-9121-49b8-aa5b-c1927f547c3a",
        "colab": {}
      },
      "cell_type": "code",
      "source": [
        "list(map(times2,seq))"
      ],
      "execution_count": 0,
      "outputs": [
        {
          "output_type": "execute_result",
          "data": {
            "text/plain": [
              "[2, 4, 6, 8, 10]"
            ]
          },
          "metadata": {
            "tags": []
          },
          "execution_count": 85
        }
      ]
    },
    {
      "metadata": {
        "id": "WPxL1_AlPKAk",
        "colab_type": "code",
        "outputId": "4a05958b-fac1-4ba0-9243-468a56b61d7d",
        "colab": {}
      },
      "cell_type": "code",
      "source": [
        "list(map(lambda var: var*2,seq))"
      ],
      "execution_count": 0,
      "outputs": [
        {
          "output_type": "execute_result",
          "data": {
            "text/plain": [
              "[2, 4, 6, 8, 10]"
            ]
          },
          "metadata": {
            "tags": []
          },
          "execution_count": 86
        }
      ]
    },
    {
      "metadata": {
        "id": "PX6gNXJIPKAz",
        "colab_type": "code",
        "outputId": "1884a4d1-b8cb-4663-e983-d3d415cba517",
        "colab": {}
      },
      "cell_type": "code",
      "source": [
        "filter(lambda item: item%2 == 0,seq)"
      ],
      "execution_count": 0,
      "outputs": [
        {
          "output_type": "execute_result",
          "data": {
            "text/plain": [
              "<filter at 0x105316ac8>"
            ]
          },
          "metadata": {
            "tags": []
          },
          "execution_count": 87
        }
      ]
    },
    {
      "metadata": {
        "id": "CdeUMkNzPKA-",
        "colab_type": "code",
        "outputId": "6b3933b9-3d3a-457e-d454-8ce5ce27b66b",
        "colab": {}
      },
      "cell_type": "code",
      "source": [
        "list(filter(lambda item: item%2 == 0,seq))"
      ],
      "execution_count": 0,
      "outputs": [
        {
          "output_type": "execute_result",
          "data": {
            "text/plain": [
              "[2, 4]"
            ]
          },
          "metadata": {
            "tags": []
          },
          "execution_count": 88
        }
      ]
    },
    {
      "metadata": {
        "id": "4DZyCGlJPKBK",
        "colab_type": "text"
      },
      "cell_type": "markdown",
      "source": [
        "## methods"
      ]
    },
    {
      "metadata": {
        "id": "omkVyQDDPKBM",
        "colab_type": "code",
        "colab": {}
      },
      "cell_type": "code",
      "source": [
        "st = 'hello my name is Sam'"
      ],
      "execution_count": 0,
      "outputs": []
    },
    {
      "metadata": {
        "id": "vb7_UOGmPKBU",
        "colab_type": "code",
        "outputId": "30d87660-3c0e-4d72-beae-32078ee2222e",
        "colab": {}
      },
      "cell_type": "code",
      "source": [
        "st.lower()"
      ],
      "execution_count": 0,
      "outputs": [
        {
          "output_type": "execute_result",
          "data": {
            "text/plain": [
              "'hello my name is sam'"
            ]
          },
          "metadata": {
            "tags": []
          },
          "execution_count": 112
        }
      ]
    },
    {
      "metadata": {
        "id": "gnWMDIyJPKBi",
        "colab_type": "code",
        "outputId": "d5389eb0-a657-47f8-eaf3-edeb5c34a646",
        "colab": {}
      },
      "cell_type": "code",
      "source": [
        "st.upper()"
      ],
      "execution_count": 0,
      "outputs": [
        {
          "output_type": "execute_result",
          "data": {
            "text/plain": [
              "'HELLO MY NAME IS SAM'"
            ]
          },
          "metadata": {
            "tags": []
          },
          "execution_count": 113
        }
      ]
    },
    {
      "metadata": {
        "id": "MCSeF93uPKBu",
        "colab_type": "code",
        "outputId": "3325de88-5e95-42d5-ca73-1f45f4ce1d09",
        "colab": {}
      },
      "cell_type": "code",
      "source": [
        "st.split()"
      ],
      "execution_count": 0,
      "outputs": [
        {
          "output_type": "execute_result",
          "data": {
            "text/plain": [
              "['hello', 'my', 'name', 'is', 'Sam']"
            ]
          },
          "metadata": {
            "tags": []
          },
          "execution_count": 103
        }
      ]
    },
    {
      "metadata": {
        "id": "rM3uM0ckPKCC",
        "colab_type": "code",
        "colab": {}
      },
      "cell_type": "code",
      "source": [
        "tweet = 'Go Sports! #Sports'"
      ],
      "execution_count": 0,
      "outputs": []
    },
    {
      "metadata": {
        "id": "CaKte8e1PKCJ",
        "colab_type": "code",
        "outputId": "52f17198-eb74-4d5a-951d-5995a2a16956",
        "colab": {}
      },
      "cell_type": "code",
      "source": [
        "tweet.split('#')"
      ],
      "execution_count": 0,
      "outputs": [
        {
          "output_type": "execute_result",
          "data": {
            "text/plain": [
              "['Go Sports! ', 'Sports']"
            ]
          },
          "metadata": {
            "tags": []
          },
          "execution_count": 106
        }
      ]
    },
    {
      "metadata": {
        "id": "Ag3g0r1wPKCT",
        "colab_type": "code",
        "outputId": "0d495a31-d28d-45f5-dd93-633755f7d8a8",
        "colab": {}
      },
      "cell_type": "code",
      "source": [
        "tweet.split('#')[1]"
      ],
      "execution_count": 0,
      "outputs": [
        {
          "output_type": "execute_result",
          "data": {
            "text/plain": [
              "'Sports'"
            ]
          },
          "metadata": {
            "tags": []
          },
          "execution_count": 107
        }
      ]
    },
    {
      "metadata": {
        "id": "Hg1ZkuXQPKCo",
        "colab_type": "code",
        "outputId": "8606007d-4c15-4f1f-a6e2-6da47a3e3103",
        "colab": {}
      },
      "cell_type": "code",
      "source": [
        "d"
      ],
      "execution_count": 0,
      "outputs": [
        {
          "output_type": "execute_result",
          "data": {
            "text/plain": [
              "{'key1': 'item1', 'key2': 'item2'}"
            ]
          },
          "metadata": {
            "tags": []
          },
          "execution_count": 92
        }
      ]
    },
    {
      "metadata": {
        "id": "hm5ud9LdPKC2",
        "colab_type": "code",
        "outputId": "c42b7af9-3f00-44e0-e085-ea2495feabdd",
        "colab": {}
      },
      "cell_type": "code",
      "source": [
        "d.keys()"
      ],
      "execution_count": 0,
      "outputs": [
        {
          "output_type": "execute_result",
          "data": {
            "text/plain": [
              "dict_keys(['key2', 'key1'])"
            ]
          },
          "metadata": {
            "tags": []
          },
          "execution_count": 93
        }
      ]
    },
    {
      "metadata": {
        "id": "Vinhe7RbPKDJ",
        "colab_type": "code",
        "outputId": "b9670220-d36c-40b0-a86f-08cf3f0f5cc0",
        "colab": {}
      },
      "cell_type": "code",
      "source": [
        "d.items()"
      ],
      "execution_count": 0,
      "outputs": [
        {
          "output_type": "execute_result",
          "data": {
            "text/plain": [
              "dict_items([('key2', 'item2'), ('key1', 'item1')])"
            ]
          },
          "metadata": {
            "tags": []
          },
          "execution_count": 94
        }
      ]
    },
    {
      "metadata": {
        "id": "dn4lriTfPKDV",
        "colab_type": "code",
        "colab": {}
      },
      "cell_type": "code",
      "source": [
        "lst = [1,2,3]"
      ],
      "execution_count": 0,
      "outputs": []
    },
    {
      "metadata": {
        "id": "F5ATX4GTPKDm",
        "colab_type": "code",
        "outputId": "6b7a345a-e64e-40e8-aa50-918bfc5583e0",
        "colab": {}
      },
      "cell_type": "code",
      "source": [
        "lst.pop()"
      ],
      "execution_count": 0,
      "outputs": [
        {
          "output_type": "execute_result",
          "data": {
            "text/plain": [
              "3"
            ]
          },
          "metadata": {
            "tags": []
          },
          "execution_count": 96
        }
      ]
    },
    {
      "metadata": {
        "id": "xNvSlLUvPKDx",
        "colab_type": "code",
        "outputId": "17c2c0a4-54eb-4dfc-a71a-62d5046569a5",
        "colab": {}
      },
      "cell_type": "code",
      "source": [
        "lst"
      ],
      "execution_count": 0,
      "outputs": [
        {
          "output_type": "execute_result",
          "data": {
            "text/plain": [
              "[1, 2]"
            ]
          },
          "metadata": {
            "tags": []
          },
          "execution_count": 108
        }
      ]
    },
    {
      "metadata": {
        "id": "25bm3WgbPKD8",
        "colab_type": "code",
        "outputId": "3d71be8e-9cf2-4e56-bc14-b74a0e2bae36",
        "colab": {}
      },
      "cell_type": "code",
      "source": [
        "'x' in [1,2,3]"
      ],
      "execution_count": 0,
      "outputs": [
        {
          "output_type": "execute_result",
          "data": {
            "text/plain": [
              "False"
            ]
          },
          "metadata": {
            "tags": []
          },
          "execution_count": 109
        }
      ]
    },
    {
      "metadata": {
        "id": "zBlL-nw6PKEG",
        "colab_type": "code",
        "outputId": "abfe90d3-55ba-42d9-f462-0b423d8e1560",
        "colab": {}
      },
      "cell_type": "code",
      "source": [
        "'x' in ['x','y','z']"
      ],
      "execution_count": 0,
      "outputs": [
        {
          "output_type": "execute_result",
          "data": {
            "text/plain": [
              "True"
            ]
          },
          "metadata": {
            "tags": []
          },
          "execution_count": 110
        }
      ]
    },
    {
      "metadata": {
        "id": "GrltwjhfPKEX",
        "colab_type": "text"
      },
      "cell_type": "markdown",
      "source": [
        "# Great Job!"
      ]
    }
  ]
}