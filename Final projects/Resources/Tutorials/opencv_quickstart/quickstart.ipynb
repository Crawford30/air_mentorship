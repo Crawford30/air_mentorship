{
 "cells": [
  {
   "cell_type": "markdown",
   "metadata": {},
   "source": [
    "# Introduction to opencv"
   ]
  },
  {
   "cell_type": "markdown",
   "metadata": {},
   "source": [
    "Installation"
   ]
  },
  {
   "cell_type": "code",
   "execution_count": null,
   "metadata": {},
   "outputs": [],
   "source": [
    "# pip install opencv-python"
   ]
  },
  {
   "cell_type": "markdown",
   "metadata": {},
   "source": [
    "Reading, viewing and saving images<br>\n",
    "https://docs.opencv.org/3.1.0/dc/d2e/tutorial_py_image_display.html"
   ]
  },
  {
   "cell_type": "code",
   "execution_count": null,
   "metadata": {},
   "outputs": [],
   "source": [
    "# Import opencv\n",
    "import cv2\n",
    "# Read image\n",
    "# cv2.imread takes two parameters i.e path to the image and color mode in which the image should be read\n",
    "img = cv2.imread(\"test_image.png\")  # Read about second argument i.e color mode e.g.\n",
    "\n",
    "img_gray = cv2.imread(\"test_image.png\",0)  # Reads image as grayscale\n"
   ]
  },
  {
   "cell_type": "code",
   "execution_count": null,
   "metadata": {},
   "outputs": [],
   "source": [
    "# Note images are read as numpy arrays of dimension (width*height*number of channels)\n",
    "# We can check type of object img\n",
    "print(type(img))\n",
    "print(type(img_gray))"
   ]
  },
  {
   "cell_type": "code",
   "execution_count": null,
   "metadata": {},
   "outputs": [],
   "source": [
    "# We can also view different properties of an image object e.g\n",
    "print(img.shape)  # RGB image has 3 channels\n",
    "print(img_gray.shape)  # Grayscale image has 1 channel\n",
    "\n",
    "\n",
    "# NOTE:Opencv reads colored image arrays in order Blue Green Red(BGR) not Red Green Blue(RGB)"
   ]
  },
  {
   "cell_type": "markdown",
   "metadata": {},
   "source": [
    "Viewing images<br>\n",
    "1. Using Opencv's imshow<br>The code below will open a window and display an image"
   ]
  },
  {
   "cell_type": "code",
   "execution_count": null,
   "metadata": {},
   "outputs": [],
   "source": [
    "# cv2.imshow takes 2 parameters i.e the name(string type) of the window that is going to be displayed \n",
    "# and the image object(numpy array) to be displayed e.g.\n",
    "cv2.imshow(\"test-image\", img)\n",
    "cv2.waitKey(0)  # very important if you want to view images . Read about it\n",
    "cv2.destroyAllWindows()  # read about this one too"
   ]
  },
  {
   "cell_type": "code",
   "execution_count": null,
   "metadata": {},
   "outputs": [],
   "source": [
    "# Try to display grayscale image"
   ]
  },
  {
   "cell_type": "markdown",
   "metadata": {},
   "source": [
    "2. Using matplotlib"
   ]
  },
  {
   "cell_type": "code",
   "execution_count": null,
   "metadata": {},
   "outputs": [],
   "source": [
    "# Import matplotlib\n",
    "from matplotlib import pyplot as plt"
   ]
  },
  {
   "cell_type": "code",
   "execution_count": null,
   "metadata": {},
   "outputs": [],
   "source": [
    "plt.imshow(img)\n",
    "# Note that the images is different from what it really looks like"
   ]
  },
  {
   "cell_type": "code",
   "execution_count": null,
   "metadata": {},
   "outputs": [],
   "source": [
    "plt.imshow(img_gray)"
   ]
  },
  {
   "cell_type": "code",
   "execution_count": null,
   "metadata": {},
   "outputs": [],
   "source": [
    "# Your task is to diaplay the image in it's right form(Hint read about opencv color conversion)\n",
    "# Matplotlib also has inbuilt functions to handle color manipulation for display.\n",
    "# Plot the images side by side in one figure with clear lables"
   ]
  },
  {
   "cell_type": "markdown",
   "metadata": {},
   "source": [
    "Saving Images"
   ]
  },
  {
   "cell_type": "code",
   "execution_count": null,
   "metadata": {},
   "outputs": [],
   "source": [
    "# The opencv imwrite function is used to save images as files on the system\n",
    "# it takes 2 parameters i.e the path/name of the image to be saved(string) and the image object(numpy array) e.g.\n",
    "cv2.imwrite(\"saved_test_image_rgb.png\", img)\n",
    "cv2.imwrite(\"saved_test_image_grayscale.png\", img_gray)"
   ]
  },
  {
   "cell_type": "markdown",
   "metadata": {},
   "source": [
    "Conclusion<br>\n",
    "1. There are several imagage manipulation libraries(pillow, matplotlib,numpy,......).Opencv is just one of the popular ones.\n",
    "2. There are several image properties and manipulations that can be accessed using opencv.(It is up to you to explore these)\n",
    "3. In order to accomplish this weeks exercise read image operations with opencv or whatever library you prefer.(https://docs.opencv.org/4.0.1/d7/d16/tutorial_py_table_of_contents_core.html)\n",
    "4. Visit the p\n",
    "\n",
    "You can do some fancy stuff e.g show an image in a window and perform different transformations to it by pressing keyboard buttons. We cannot wait to be yawadized by your implementations."
   ]
  },
  {
   "cell_type": "code",
   "execution_count": null,
   "metadata": {},
   "outputs": [],
   "source": []
  }
 ],
 "metadata": {
  "kernelspec": {
   "display_name": "Python 3",
   "language": "python",
   "name": "python3"
  },
  "language_info": {
   "codemirror_mode": {
    "name": "ipython",
    "version": 3
   },
   "file_extension": ".py",
   "mimetype": "text/x-python",
   "name": "python",
   "nbconvert_exporter": "python",
   "pygments_lexer": "ipython3",
   "version": "3.6.8"
  }
 },
 "nbformat": 4,
 "nbformat_minor": 2
}
