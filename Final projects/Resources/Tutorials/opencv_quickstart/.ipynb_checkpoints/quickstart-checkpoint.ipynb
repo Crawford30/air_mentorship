{
 "cells": [
  {
   "cell_type": "markdown",
   "metadata": {},
   "source": [
    "# Introduction to opencv"
   ]
  },
  {
   "cell_type": "markdown",
   "metadata": {},
   "source": [
    "Installation"
   ]
  },
  {
   "cell_type": "code",
   "execution_count": 1,
   "metadata": {},
   "outputs": [],
   "source": [
    "# pip install opencv-python"
   ]
  },
  {
   "cell_type": "markdown",
   "metadata": {},
   "source": [
    "Reading, viewing and saving images<br>\n",
    "https://docs.opencv.org/3.1.0/dc/d2e/tutorial_py_image_display.html"
   ]
  },
  {
   "cell_type": "code",
   "execution_count": 5,
   "metadata": {},
   "outputs": [],
   "source": [
    "# Import opencv\n",
    "import cv2\n",
    "# Read image\n",
    "# cv2.imread takes two parameters i.e path to the image and color mode in which the image should be read\n",
    "img = cv2.imread(\"test_image.png\")  # Read about second argument i.e color mode e.g.\n",
    "\n",
    "img_gray = cv2.imread(\"test_image.png\",0)  # Reads image as grayscale"
   ]
  },
  {
   "cell_type": "code",
   "execution_count": 7,
   "metadata": {},
   "outputs": [
    {
     "name": "stdout",
     "output_type": "stream",
     "text": [
      "<class 'numpy.ndarray'>\n",
      "<class 'numpy.ndarray'>\n"
     ]
    }
   ],
   "source": [
    "# Note images are read as numpy arrays of dimension (width*height*number of channels)\n",
    "# We can check type of object img\n",
    "print(type(img))\n",
    "print(type(img_gray))"
   ]
  },
  {
   "cell_type": "code",
   "execution_count": 8,
   "metadata": {},
   "outputs": [
    {
     "name": "stdout",
     "output_type": "stream",
     "text": [
      "(1080, 1920, 3)\n",
      "(1080, 1920)\n"
     ]
    }
   ],
   "source": [
    "# We can also view different properties of an image object e.g\n",
    "print(img.shape)  # RGB image has 3 channels\n",
    "print(img_gray.shape)  # Grayscale image has 1 channel"
   ]
  },
  {
   "cell_type": "markdown",
   "metadata": {},
   "source": [
    "Viewing images<br>\n",
    "1. Using Opencv's imshow<br>The code below will open a window and display an image"
   ]
  },
  {
   "cell_type": "code",
   "execution_count": 13,
   "metadata": {},
   "outputs": [],
   "source": [
    "# cv2.imshow takes 2 parameters i.e the name(string type) of the window that is going to be displayed \n",
    "# and the image object(numpy array) to be displayed e.g.\n",
    "cv2.imshow(\"test-image\", img)\n",
    "cv2.waitKey(0)  # very important if you want to view images . Read about it\n",
    "cv2.destroyAllWindows()  # read about this one too\n",
    "\n"
   ]
  },
  {
   "cell_type": "code",
   "execution_count": null,
   "metadata": {},
   "outputs": [],
   "source": [
    "# Try to display grayscale image"
   ]
  },
  {
   "cell_type": "code",
   "execution_count": null,
   "metadata": {},
   "outputs": [],
   "source": []
  }
 ],
 "metadata": {
  "kernelspec": {
   "display_name": "Python 3",
   "language": "python",
   "name": "python3"
  },
  "language_info": {
   "codemirror_mode": {
    "name": "ipython",
    "version": 3
   },
   "file_extension": ".py",
   "mimetype": "text/x-python",
   "name": "python",
   "nbconvert_exporter": "python",
   "pygments_lexer": "ipython3",
   "version": "3.6.8"
  }
 },
 "nbformat": 4,
 "nbformat_minor": 2
}
