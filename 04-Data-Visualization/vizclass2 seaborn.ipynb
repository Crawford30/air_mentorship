{
 "cells": [
  {
   "cell_type": "code",
   "execution_count": null,
   "metadata": {},
   "outputs": [],
   "source": [
    "import pandas as pd\n",
    "import numpy as np\n",
    "import matplotlib.pyplot as plt\n",
    "%matplotlib inline\n",
    "import seaborn as sns"
   ]
  },
  {
   "cell_type": "code",
   "execution_count": null,
   "metadata": {},
   "outputs": [],
   "source": [
    "# Read in inbuilt dataset tips\n",
    "tips = sns.load_dataset('tips')"
   ]
  },
  {
   "cell_type": "markdown",
   "metadata": {},
   "source": [
    "#  Setting the style and color palette"
   ]
  },
  {
   "cell_type": "markdown",
   "metadata": {},
   "source": [
    "This is one of the most important but also tricky things to do with Seaborn\n",
    "I found something that worked for me once and have stuck with it and suggest you do the same"
   ]
  },
  {
   "cell_type": "code",
   "execution_count": null,
   "metadata": {},
   "outputs": [],
   "source": [
    "# set_style: possible options 'white', 'dark', 'whitegrid', 'darkgrid' or 'ticks'\n",
    "# can inspect sns.axes_style()\n",
    "# change the individual parameters using { parameter : new value} inside the brackets\n",
    "sns.set_style(\"darkgrid\")\n",
    "# set_palette\n",
    "sns.set_palette('tab10', 10)\n",
    "# set_context possible contexts are 'notebook', 'paper', 'talk', 'poster' they change size of font to make more visible\n",
    "# can inspect sns.plotting_context()\n",
    "# change the individual parameters using { parameter : new value} inside the brackets\n",
    "sns.set_context('talk')"
   ]
  },
  {
   "cell_type": "code",
   "execution_count": null,
   "metadata": {},
   "outputs": [],
   "source": [
    "# An example of a typical graph\n",
    "tips = sns.load_dataset('tips')\n",
    "sns.distplot(tips['total_bill'], kde=False)"
   ]
  },
  {
   "cell_type": "markdown",
   "metadata": {},
   "source": [
    "### https://seaborn.pydata.org/tutorial/color_palettes.html\n",
    "### https://xkcd.com/color/rgb/"
   ]
  },
  {
   "cell_type": "code",
   "execution_count": null,
   "metadata": {},
   "outputs": [],
   "source": [
    "# To create your own colour pallete\n",
    "colors = [\"pig pink\", \"deep aqua\", \"burple\", \"neon red\", \"faded green\", \"carmine\", ]\n",
    "sns.palplot(sns.xkcd_palette(colors))\n",
    "# to set as default\n",
    "# sns.set_palette(sns.xkcd_palette(colors), 10)"
   ]
  },
  {
   "cell_type": "code",
   "execution_count": null,
   "metadata": {},
   "outputs": [],
   "source": [
    "# Default colour palette has 6 versions: deep, muted, pastel, bright, dark, and colorblind\n",
    "sns.palplot(sns.color_palette(\"bright\", 8))"
   ]
  },
  {
   "cell_type": "code",
   "execution_count": null,
   "metadata": {},
   "outputs": [],
   "source": [
    "sns.palplot(sns.color_palette(\"tab10\", 8))"
   ]
  },
  {
   "cell_type": "code",
   "execution_count": null,
   "metadata": {},
   "outputs": [],
   "source": [
    "sns.axes_style();"
   ]
  },
  {
   "cell_type": "markdown",
   "metadata": {},
   "source": [
    "# Now for some data"
   ]
  },
  {
   "cell_type": "code",
   "execution_count": null,
   "metadata": {},
   "outputs": [],
   "source": [
    "# Reading in the inbuild dataset\n",
    "tips = sns.load_dataset('tips')"
   ]
  },
  {
   "cell_type": "code",
   "execution_count": null,
   "metadata": {},
   "outputs": [],
   "source": [
    "# How big is the tips dataset?\n",
    "tips.shape"
   ]
  },
  {
   "cell_type": "code",
   "execution_count": null,
   "metadata": {},
   "outputs": [],
   "source": [
    "# What does the dataset look like\n",
    "tips.head()"
   ]
  },
  {
   "cell_type": "code",
   "execution_count": null,
   "metadata": {},
   "outputs": [],
   "source": []
  },
  {
   "cell_type": "markdown",
   "metadata": {},
   "source": [
    "# sns.distplot - for continuous univariate data, histograms and distributions"
   ]
  },
  {
   "cell_type": "code",
   "execution_count": null,
   "metadata": {},
   "outputs": [],
   "source": [
    "# Showing the distribution of the total bill column - what are the issues with this simple plot?\n",
    "sns.distplot(tips['total_bill'])"
   ]
  },
  {
   "cell_type": "code",
   "execution_count": null,
   "metadata": {},
   "outputs": [],
   "source": [
    "# Setting kde as False removes the smoothing line but gives a more familiar y axis.\n",
    "# bins allows you to choose the number of bars in the histogram depending on the amount of detail required\n",
    "# rug is not very exciting imho, not really sure the value it adds\n",
    "sns.distplot(tips['total_bill'], kde=False, bins = 30, rug=False, color='magenta', vertical=True)"
   ]
  },
  {
   "cell_type": "markdown",
   "metadata": {},
   "source": [
    "# WHAT'S THE PROBLEM HERE?"
   ]
  },
  {
   "cell_type": "markdown",
   "metadata": {},
   "source": [
    "# sns.lineplot - for plotting one or more lines of continuous data\n",
    "As with matplotlib we can also plot lines although this dataset does not lend itself so well, not having an independent variable but we can demonstrate with the index"
   ]
  },
  {
   "cell_type": "code",
   "execution_count": null,
   "metadata": {},
   "outputs": [],
   "source": [
    "# One line quick lineplot\n",
    "sns.lineplot(tips.index, tips.total_bill)"
   ]
  },
  {
   "cell_type": "code",
   "execution_count": null,
   "metadata": {},
   "outputs": [],
   "source": [
    "# customised lineplot using matplotlib methods\n",
    "# This could also be done using 'ax' instead of plot but you would need to type ax.set_xlabel, ax.set_title etc\n",
    "fig, ax = plt.subplots(figsize =(20, 6))\n",
    "sns.lineplot(tips.index, tips.total_bill)\n",
    "# Can plot multiple columns on the same axis\n",
    "# sns.lineplot(tips.index, tips.total_bill)\n",
    "plt.xlabel('Index number')\n",
    "plt.ylabel('Tip given')\n",
    "plt.title('Tips given by index number')\n",
    "plt.show()"
   ]
  },
  {
   "cell_type": "markdown",
   "metadata": {},
   "source": [
    "### We can add different variables (columns by simply adding another sns.lineplot..... line)\n",
    "### We can break up existing variable by categories using hue=   see below"
   ]
  },
  {
   "cell_type": "markdown",
   "metadata": {},
   "source": [
    "## Bivariate continuous data\n",
    "These are essentially different types of scatter plot but each has its own features. Lets plot total bill against tip and explore"
   ]
  },
  {
   "cell_type": "code",
   "execution_count": null,
   "metadata": {},
   "outputs": [],
   "source": [
    "# Using simple quick start sns.scatterplot(x, y) notation:\n",
    "sns.scatterplot(tips.total_bill, tips.tip)"
   ]
  },
  {
   "cell_type": "markdown",
   "metadata": {},
   "source": [
    "## Introducing a third dimension\n",
    "By changing the format from __plot(x,y) to __plot('x', 'y', data = dataframe) we can do more\n",
    "\n",
    "Combine with matplotlib functions for more control"
   ]
  },
  {
   "cell_type": "code",
   "execution_count": null,
   "metadata": {},
   "outputs": [],
   "source": [
    "# Using hue to differentiate between make and female tippers\n",
    "fig, ax = plt.subplots(figsize =(10, 4))\n",
    "sns.scatterplot('total_bill', 'tip', hue = 'sex', data = tips)\n",
    "plt.xlabel('Total bill')\n",
    "plt.ylabel('Tip given')\n",
    "plt.title('Tips given by total bill and gender')\n",
    "plt.show()"
   ]
  },
  {
   "cell_type": "markdown",
   "metadata": {},
   "source": [
    "## sns.regplot - like scatterplot but includes a REGression line (line of best fit) by default"
   ]
  },
  {
   "cell_type": "code",
   "execution_count": null,
   "metadata": {},
   "outputs": [],
   "source": [
    "# Using hue to differentiate between make and female tippers\n",
    "fig = plt.subplots(figsize =(10, 4))\n",
    "sns.regplot('total_bill', 'tip', data = tips)\n",
    "plt.xlabel('Total bill')\n",
    "plt.ylabel('Tip given')\n",
    "plt.title('Tips given by total bill and gender')\n",
    "plt.show();"
   ]
  },
  {
   "cell_type": "markdown",
   "metadata": {},
   "source": [
    "# Categorical data"
   ]
  },
  {
   "cell_type": "markdown",
   "metadata": {},
   "source": [
    "For analysing data where the values are not continuous and are their strings of text, binary yes or no, male or female, cat or dog or ratings, say 1,2,3,4 or 5"
   ]
  },
  {
   "cell_type": "markdown",
   "metadata": {},
   "source": [
    "## sns.countplot - for looking at frequencies in individual columns"
   ]
  },
  {
   "cell_type": "code",
   "execution_count": null,
   "metadata": {},
   "outputs": [],
   "source": [
    "# ONly requirement for this simple plot is that all values are in the same column - .melt() can help achieve this\n",
    "sns.countplot(tips.time)"
   ]
  },
  {
   "cell_type": "markdown",
   "metadata": {},
   "source": [
    "## sns.barplot - allows more complex categorical plotting than simple countplot"
   ]
  },
  {
   "cell_type": "code",
   "execution_count": null,
   "metadata": {},
   "outputs": [],
   "source": [
    "sns.barplot('time', 'total_bill', hue='smoker', data=tips, ci=False)   # add ,hue='smoker'"
   ]
  },
  {
   "cell_type": "markdown",
   "metadata": {},
   "source": [
    "## sns.boxplot - allows us to see the distribution of values in a range of categories"
   ]
  },
  {
   "cell_type": "code",
   "execution_count": null,
   "metadata": {},
   "outputs": [],
   "source": [
    "sns.boxplot( 'time','total_bill', data=tips)   # use hue to add another categorical variable\n",
    "\n",
    "# two ways to change orietnation 1. switch x and y  2. use orient='h'"
   ]
  },
  {
   "cell_type": "markdown",
   "metadata": {},
   "source": [
    "## sns.violinplot - like a boxplot but shows frequency using width rather than just median IQR etc"
   ]
  },
  {
   "cell_type": "code",
   "execution_count": null,
   "metadata": {},
   "outputs": [],
   "source": [
    "sns.violinplot( 'time','total_bill', data=tips) # add  hue='smoker',"
   ]
  },
  {
   "cell_type": "code",
   "execution_count": null,
   "metadata": {},
   "outputs": [],
   "source": [
    "sns.violinplot( 'time','total_bill', hue='smoker', data=tips, split=True) "
   ]
  },
  {
   "cell_type": "code",
   "execution_count": null,
   "metadata": {},
   "outputs": [],
   "source": []
  },
  {
   "cell_type": "code",
   "execution_count": null,
   "metadata": {},
   "outputs": [],
   "source": [
    "sns.swarmplot(x=\"time\", y=\"total_bill\",hue='smoker',data=tips, dodge=True) # add in split=True"
   ]
  },
  {
   "cell_type": "code",
   "execution_count": null,
   "metadata": {},
   "outputs": [],
   "source": [
    "# Combining plots for greater detail or effect\n",
    "sns.violinplot( 'time','total_bill', data=tips) # add in split=True\n",
    "sns.swarmplot(x=\"time\", y=\"total_bill\",data=tips, color='black') # add in split=True"
   ]
  },
  {
   "cell_type": "markdown",
   "metadata": {},
   "source": [
    "# More advanced plots\n",
    "These plots generate their own axes so cannot be used with the fig, ax =plt.subplots() approach"
   ]
  },
  {
   "cell_type": "markdown",
   "metadata": {},
   "source": [
    "## sns.lmplot - another scatterplot but allows more categorical analysis"
   ]
  },
  {
   "cell_type": "code",
   "execution_count": null,
   "metadata": {},
   "outputs": [],
   "source": [
    "# Using hue to differentiate between make and female tippers\n",
    "# use height to specify height of plot and aspec to specify ration of width tho height in theis case 2 means width = 6X2\n",
    "g = sns.lmplot('total_bill', 'tip', hue='smoker', data = tips, height=6, aspect = 2)\n",
    "plt.xlabel('Total bill')\n",
    "plt.ylabel('Tip given')\n",
    "plt.title('Tips given by total bill and smoker')\n",
    "plt.show()"
   ]
  },
  {
   "cell_type": "markdown",
   "metadata": {},
   "source": [
    "## See documentation for how to change axes, labels, titles etc"
   ]
  },
  {
   "cell_type": "code",
   "execution_count": null,
   "metadata": {},
   "outputs": [],
   "source": [
    "g = sns.lmplot(x=\"total_bill\", y=\"tip\", col=\"smoker\", data=tips)"
   ]
  },
  {
   "cell_type": "code",
   "execution_count": null,
   "metadata": {},
   "outputs": [],
   "source": [
    "g = sns.lmplot(x=\"total_bill\", y=\"tip\", row=\"sex\", col=\"smoker\", data=tips, height=3, aspect = 1.5)"
   ]
  },
  {
   "cell_type": "code",
   "execution_count": null,
   "metadata": {},
   "outputs": [],
   "source": []
  },
  {
   "cell_type": "markdown",
   "metadata": {},
   "source": [
    "## sns.pairplot - reveals relationships between multiple numerical data pairs"
   ]
  },
  {
   "cell_type": "code",
   "execution_count": null,
   "metadata": {
    "scrolled": true
   },
   "outputs": [],
   "source": [
    "sns.pairplot(tips)"
   ]
  },
  {
   "cell_type": "code",
   "execution_count": null,
   "metadata": {},
   "outputs": [],
   "source": [
    "# This can be modified by adding hue='category' for the category of your choice. bar histograms then become kde for easy comparison"
   ]
  }
 ],
 "metadata": {
  "kernelspec": {
   "display_name": "Python 3",
   "language": "python",
   "name": "python3"
  },
  "language_info": {
   "codemirror_mode": {
    "name": "ipython",
    "version": 3
   },
   "file_extension": ".py",
   "mimetype": "text/x-python",
   "name": "python",
   "nbconvert_exporter": "python",
   "pygments_lexer": "ipython3",
   "version": "3.6.3"
  }
 },
 "nbformat": 4,
 "nbformat_minor": 2
}
